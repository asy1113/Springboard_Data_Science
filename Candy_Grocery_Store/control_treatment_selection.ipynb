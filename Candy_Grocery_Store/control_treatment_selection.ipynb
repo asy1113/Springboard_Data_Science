{
 "cells": [
  {
   "cell_type": "code",
   "execution_count": 1,
   "metadata": {},
   "outputs": [],
   "source": [
    "import pandas as pd\n",
    "import numpy as np\n",
    "\n",
    "import matplotlib.pyplot as plt\n",
    "import seaborn as sns\n",
    "import datetime\n",
    "from sklearn.cluster import KMeans\n",
    "\n",
    "from scipy.stats import ttest_ind"
   ]
  },
  {
   "cell_type": "code",
   "execution_count": 2,
   "metadata": {},
   "outputs": [],
   "source": [
    "store_att = pd.read_csv(\"store_attributes.csv\")"
   ]
  },
  {
   "cell_type": "code",
   "execution_count": 3,
   "metadata": {},
   "outputs": [
    {
     "data": {
      "text/html": [
       "<div>\n",
       "<style scoped>\n",
       "    .dataframe tbody tr th:only-of-type {\n",
       "        vertical-align: middle;\n",
       "    }\n",
       "\n",
       "    .dataframe tbody tr th {\n",
       "        vertical-align: top;\n",
       "    }\n",
       "\n",
       "    .dataframe thead th {\n",
       "        text-align: right;\n",
       "    }\n",
       "</style>\n",
       "<table border=\"1\" class=\"dataframe\">\n",
       "  <thead>\n",
       "    <tr style=\"text-align: right;\">\n",
       "      <th></th>\n",
       "      <th>Unnamed: 0</th>\n",
       "      <th>store_id</th>\n",
       "      <th>attribute_id</th>\n",
       "      <th>attribute_type</th>\n",
       "      <th>attribute_int_val</th>\n",
       "      <th>attribute_str_val</th>\n",
       "      <th>attribute_float_val</th>\n",
       "    </tr>\n",
       "  </thead>\n",
       "  <tbody>\n",
       "    <tr>\n",
       "      <th>0</th>\n",
       "      <td>0</td>\n",
       "      <td>631</td>\n",
       "      <td>8</td>\n",
       "      <td>float</td>\n",
       "      <td>NaN</td>\n",
       "      <td>NaN</td>\n",
       "      <td>9447217.69</td>\n",
       "    </tr>\n",
       "    <tr>\n",
       "      <th>1</th>\n",
       "      <td>1</td>\n",
       "      <td>501</td>\n",
       "      <td>8</td>\n",
       "      <td>float</td>\n",
       "      <td>NaN</td>\n",
       "      <td>NaN</td>\n",
       "      <td>8807968.29</td>\n",
       "    </tr>\n",
       "    <tr>\n",
       "      <th>2</th>\n",
       "      <td>2</td>\n",
       "      <td>486</td>\n",
       "      <td>8</td>\n",
       "      <td>float</td>\n",
       "      <td>NaN</td>\n",
       "      <td>NaN</td>\n",
       "      <td>4038617.13</td>\n",
       "    </tr>\n",
       "    <tr>\n",
       "      <th>3</th>\n",
       "      <td>3</td>\n",
       "      <td>392</td>\n",
       "      <td>8</td>\n",
       "      <td>float</td>\n",
       "      <td>NaN</td>\n",
       "      <td>NaN</td>\n",
       "      <td>12222048.62</td>\n",
       "    </tr>\n",
       "    <tr>\n",
       "      <th>4</th>\n",
       "      <td>4</td>\n",
       "      <td>561</td>\n",
       "      <td>8</td>\n",
       "      <td>float</td>\n",
       "      <td>NaN</td>\n",
       "      <td>NaN</td>\n",
       "      <td>4298550.49</td>\n",
       "    </tr>\n",
       "  </tbody>\n",
       "</table>\n",
       "</div>"
      ],
      "text/plain": [
       "   Unnamed: 0  store_id  attribute_id attribute_type  attribute_int_val  \\\n",
       "0           0       631             8          float                NaN   \n",
       "1           1       501             8          float                NaN   \n",
       "2           2       486             8          float                NaN   \n",
       "3           3       392             8          float                NaN   \n",
       "4           4       561             8          float                NaN   \n",
       "\n",
       "  attribute_str_val  attribute_float_val  \n",
       "0               NaN           9447217.69  \n",
       "1               NaN           8807968.29  \n",
       "2               NaN           4038617.13  \n",
       "3               NaN          12222048.62  \n",
       "4               NaN           4298550.49  "
      ]
     },
     "execution_count": 3,
     "metadata": {},
     "output_type": "execute_result"
    }
   ],
   "source": [
    "store_att.head()"
   ]
  },
  {
   "cell_type": "code",
   "execution_count": 4,
   "metadata": {},
   "outputs": [
    {
     "data": {
      "text/plain": [
       "(16538, 7)"
      ]
     },
     "execution_count": 4,
     "metadata": {},
     "output_type": "execute_result"
    }
   ],
   "source": [
    "store_att.shape"
   ]
  },
  {
   "cell_type": "code",
   "execution_count": null,
   "metadata": {},
   "outputs": [],
   "source": []
  },
  {
   "cell_type": "code",
   "execution_count": 5,
   "metadata": {},
   "outputs": [
    {
     "data": {
      "text/plain": [
       "(337,)"
      ]
     },
     "execution_count": 5,
     "metadata": {},
     "output_type": "execute_result"
    }
   ],
   "source": [
    "pd.unique(store_att.store_id).shape"
   ]
  },
  {
   "cell_type": "code",
   "execution_count": 6,
   "metadata": {},
   "outputs": [
    {
     "data": {
      "text/html": [
       "<div>\n",
       "<style scoped>\n",
       "    .dataframe tbody tr th:only-of-type {\n",
       "        vertical-align: middle;\n",
       "    }\n",
       "\n",
       "    .dataframe tbody tr th {\n",
       "        vertical-align: top;\n",
       "    }\n",
       "\n",
       "    .dataframe thead th {\n",
       "        text-align: right;\n",
       "    }\n",
       "</style>\n",
       "<table border=\"1\" class=\"dataframe\">\n",
       "  <thead>\n",
       "    <tr style=\"text-align: right;\">\n",
       "      <th></th>\n",
       "      <th>Unnamed: 0</th>\n",
       "      <th>store_id</th>\n",
       "      <th>attribute_id</th>\n",
       "      <th>attribute_type</th>\n",
       "      <th>attribute_int_val</th>\n",
       "      <th>attribute_str_val</th>\n",
       "      <th>attribute_float_val</th>\n",
       "    </tr>\n",
       "  </thead>\n",
       "  <tbody>\n",
       "    <tr>\n",
       "      <th>11599</th>\n",
       "      <td>11599</td>\n",
       "      <td>538</td>\n",
       "      <td>1</td>\n",
       "      <td>float</td>\n",
       "      <td>NaN</td>\n",
       "      <td>NaN</td>\n",
       "      <td>3282.0000</td>\n",
       "    </tr>\n",
       "    <tr>\n",
       "      <th>8355</th>\n",
       "      <td>8355</td>\n",
       "      <td>608</td>\n",
       "      <td>1</td>\n",
       "      <td>float</td>\n",
       "      <td>NaN</td>\n",
       "      <td>NaN</td>\n",
       "      <td>3374.0700</td>\n",
       "    </tr>\n",
       "    <tr>\n",
       "      <th>15228</th>\n",
       "      <td>15228</td>\n",
       "      <td>515</td>\n",
       "      <td>2</td>\n",
       "      <td>float</td>\n",
       "      <td>NaN</td>\n",
       "      <td>NaN</td>\n",
       "      <td>0.1683</td>\n",
       "    </tr>\n",
       "    <tr>\n",
       "      <th>12291</th>\n",
       "      <td>12291</td>\n",
       "      <td>669</td>\n",
       "      <td>2</td>\n",
       "      <td>float</td>\n",
       "      <td>NaN</td>\n",
       "      <td>NaN</td>\n",
       "      <td>0.4485</td>\n",
       "    </tr>\n",
       "    <tr>\n",
       "      <th>3312</th>\n",
       "      <td>3312</td>\n",
       "      <td>493</td>\n",
       "      <td>3</td>\n",
       "      <td>float</td>\n",
       "      <td>NaN</td>\n",
       "      <td>NaN</td>\n",
       "      <td>0.5677</td>\n",
       "    </tr>\n",
       "    <tr>\n",
       "      <th>...</th>\n",
       "      <td>...</td>\n",
       "      <td>...</td>\n",
       "      <td>...</td>\n",
       "      <td>...</td>\n",
       "      <td>...</td>\n",
       "      <td>...</td>\n",
       "      <td>...</td>\n",
       "    </tr>\n",
       "    <tr>\n",
       "      <th>9101</th>\n",
       "      <td>9101</td>\n",
       "      <td>543</td>\n",
       "      <td>51</td>\n",
       "      <td>string</td>\n",
       "      <td>NaN</td>\n",
       "      <td>ID-BOISE-205</td>\n",
       "      <td>NaN</td>\n",
       "    </tr>\n",
       "    <tr>\n",
       "      <th>7821</th>\n",
       "      <td>7821</td>\n",
       "      <td>387</td>\n",
       "      <td>52</td>\n",
       "      <td>float</td>\n",
       "      <td>NaN</td>\n",
       "      <td>NaN</td>\n",
       "      <td>27546.0000</td>\n",
       "    </tr>\n",
       "    <tr>\n",
       "      <th>15255</th>\n",
       "      <td>15255</td>\n",
       "      <td>476</td>\n",
       "      <td>52</td>\n",
       "      <td>float</td>\n",
       "      <td>NaN</td>\n",
       "      <td>NaN</td>\n",
       "      <td>174.0000</td>\n",
       "    </tr>\n",
       "    <tr>\n",
       "      <th>6200</th>\n",
       "      <td>6200</td>\n",
       "      <td>386</td>\n",
       "      <td>53</td>\n",
       "      <td>float</td>\n",
       "      <td>NaN</td>\n",
       "      <td>NaN</td>\n",
       "      <td>0.0716</td>\n",
       "    </tr>\n",
       "    <tr>\n",
       "      <th>1770</th>\n",
       "      <td>1770</td>\n",
       "      <td>416</td>\n",
       "      <td>53</td>\n",
       "      <td>float</td>\n",
       "      <td>NaN</td>\n",
       "      <td>NaN</td>\n",
       "      <td>0.2357</td>\n",
       "    </tr>\n",
       "  </tbody>\n",
       "</table>\n",
       "<p>106 rows × 7 columns</p>\n",
       "</div>"
      ],
      "text/plain": [
       "       Unnamed: 0  store_id  attribute_id attribute_type  attribute_int_val  \\\n",
       "11599       11599       538             1          float                NaN   \n",
       "8355         8355       608             1          float                NaN   \n",
       "15228       15228       515             2          float                NaN   \n",
       "12291       12291       669             2          float                NaN   \n",
       "3312         3312       493             3          float                NaN   \n",
       "...           ...       ...           ...            ...                ...   \n",
       "9101         9101       543            51         string                NaN   \n",
       "7821         7821       387            52          float                NaN   \n",
       "15255       15255       476            52          float                NaN   \n",
       "6200         6200       386            53          float                NaN   \n",
       "1770         1770       416            53          float                NaN   \n",
       "\n",
       "      attribute_str_val  attribute_float_val  \n",
       "11599               NaN            3282.0000  \n",
       "8355                NaN            3374.0700  \n",
       "15228               NaN               0.1683  \n",
       "12291               NaN               0.4485  \n",
       "3312                NaN               0.5677  \n",
       "...                 ...                  ...  \n",
       "9101       ID-BOISE-205                  NaN  \n",
       "7821                NaN           27546.0000  \n",
       "15255               NaN             174.0000  \n",
       "6200                NaN               0.0716  \n",
       "1770                NaN               0.2357  \n",
       "\n",
       "[106 rows x 7 columns]"
      ]
     },
     "execution_count": 6,
     "metadata": {},
     "output_type": "execute_result"
    }
   ],
   "source": [
    "store_att.groupby(\"attribute_id\", group_keys=False).apply(lambda x: x.sample(2))"
   ]
  },
  {
   "cell_type": "code",
   "execution_count": 7,
   "metadata": {},
   "outputs": [
    {
     "data": {
      "text/html": [
       "<div>\n",
       "<style scoped>\n",
       "    .dataframe tbody tr th:only-of-type {\n",
       "        vertical-align: middle;\n",
       "    }\n",
       "\n",
       "    .dataframe tbody tr th {\n",
       "        vertical-align: top;\n",
       "    }\n",
       "\n",
       "    .dataframe thead th {\n",
       "        text-align: right;\n",
       "    }\n",
       "</style>\n",
       "<table border=\"1\" class=\"dataframe\">\n",
       "  <thead>\n",
       "    <tr style=\"text-align: right;\">\n",
       "      <th></th>\n",
       "      <th>Unnamed: 0</th>\n",
       "      <th>store_id</th>\n",
       "      <th>attribute_id</th>\n",
       "      <th>attribute_type</th>\n",
       "      <th>attribute_int_val</th>\n",
       "      <th>attribute_str_val</th>\n",
       "      <th>attribute_float_val</th>\n",
       "    </tr>\n",
       "  </thead>\n",
       "  <tbody>\n",
       "    <tr>\n",
       "      <th>35</th>\n",
       "      <td>35</td>\n",
       "      <td>635</td>\n",
       "      <td>8</td>\n",
       "      <td>float</td>\n",
       "      <td>NaN</td>\n",
       "      <td>NaN</td>\n",
       "      <td>2.314381e+06</td>\n",
       "    </tr>\n",
       "    <tr>\n",
       "      <th>589</th>\n",
       "      <td>589</td>\n",
       "      <td>635</td>\n",
       "      <td>44</td>\n",
       "      <td>float</td>\n",
       "      <td>NaN</td>\n",
       "      <td>NaN</td>\n",
       "      <td>4.040600e+00</td>\n",
       "    </tr>\n",
       "    <tr>\n",
       "      <th>829</th>\n",
       "      <td>829</td>\n",
       "      <td>635</td>\n",
       "      <td>3</td>\n",
       "      <td>float</td>\n",
       "      <td>NaN</td>\n",
       "      <td>NaN</td>\n",
       "      <td>5.172000e-01</td>\n",
       "    </tr>\n",
       "    <tr>\n",
       "      <th>852</th>\n",
       "      <td>852</td>\n",
       "      <td>635</td>\n",
       "      <td>4</td>\n",
       "      <td>float</td>\n",
       "      <td>NaN</td>\n",
       "      <td>NaN</td>\n",
       "      <td>4.074000e-01</td>\n",
       "    </tr>\n",
       "    <tr>\n",
       "      <th>1099</th>\n",
       "      <td>1099</td>\n",
       "      <td>635</td>\n",
       "      <td>17</td>\n",
       "      <td>float</td>\n",
       "      <td>NaN</td>\n",
       "      <td>NaN</td>\n",
       "      <td>6.381900e+00</td>\n",
       "    </tr>\n",
       "  </tbody>\n",
       "</table>\n",
       "</div>"
      ],
      "text/plain": [
       "      Unnamed: 0  store_id  attribute_id attribute_type  attribute_int_val  \\\n",
       "35            35       635             8          float                NaN   \n",
       "589          589       635            44          float                NaN   \n",
       "829          829       635             3          float                NaN   \n",
       "852          852       635             4          float                NaN   \n",
       "1099        1099       635            17          float                NaN   \n",
       "\n",
       "     attribute_str_val  attribute_float_val  \n",
       "35                 NaN         2.314381e+06  \n",
       "589                NaN         4.040600e+00  \n",
       "829                NaN         5.172000e-01  \n",
       "852                NaN         4.074000e-01  \n",
       "1099               NaN         6.381900e+00  "
      ]
     },
     "execution_count": 7,
     "metadata": {},
     "output_type": "execute_result"
    }
   ],
   "source": [
    "store_att[store_att.store_id==635].head()"
   ]
  },
  {
   "cell_type": "markdown",
   "metadata": {},
   "source": [
    "df1: store_id, attribute_id, float_values   \n",
    "df2: store_id, attribute_id, int_values   \n",
    "df3: store_id, attribute_id, str_values   "
   ]
  },
  {
   "cell_type": "code",
   "execution_count": 8,
   "metadata": {},
   "outputs": [],
   "source": [
    "df1 = store_att[store_att.attribute_type==\"float\"].iloc[:,[1,2,6]]"
   ]
  },
  {
   "cell_type": "code",
   "execution_count": 9,
   "metadata": {},
   "outputs": [],
   "source": [
    "df2 = store_att[store_att.attribute_type==\"integer\"].iloc[:,[1,2,4]]"
   ]
  },
  {
   "cell_type": "code",
   "execution_count": 10,
   "metadata": {},
   "outputs": [],
   "source": [
    "df3 = store_att[store_att.attribute_type==\"string\"].iloc[:,[1,2,5]]"
   ]
  },
  {
   "cell_type": "code",
   "execution_count": 11,
   "metadata": {},
   "outputs": [
    {
     "data": {
      "text/plain": [
       "0"
      ]
     },
     "execution_count": 11,
     "metadata": {},
     "output_type": "execute_result"
    }
   ],
   "source": [
    "pd.isnull(df1).sum().sum()"
   ]
  },
  {
   "cell_type": "code",
   "execution_count": 12,
   "metadata": {},
   "outputs": [
    {
     "data": {
      "text/plain": [
       "0"
      ]
     },
     "execution_count": 12,
     "metadata": {},
     "output_type": "execute_result"
    }
   ],
   "source": [
    "pd.isnull(df2).sum().sum()"
   ]
  },
  {
   "cell_type": "code",
   "execution_count": 13,
   "metadata": {},
   "outputs": [
    {
     "data": {
      "text/plain": [
       "0"
      ]
     },
     "execution_count": 13,
     "metadata": {},
     "output_type": "execute_result"
    }
   ],
   "source": [
    "pd.isnull(df3).sum().sum()"
   ]
  },
  {
   "cell_type": "code",
   "execution_count": 14,
   "metadata": {},
   "outputs": [
    {
     "data": {
      "text/html": [
       "<div>\n",
       "<style scoped>\n",
       "    .dataframe tbody tr th:only-of-type {\n",
       "        vertical-align: middle;\n",
       "    }\n",
       "\n",
       "    .dataframe tbody tr th {\n",
       "        vertical-align: top;\n",
       "    }\n",
       "\n",
       "    .dataframe thead th {\n",
       "        text-align: right;\n",
       "    }\n",
       "</style>\n",
       "<table border=\"1\" class=\"dataframe\">\n",
       "  <thead>\n",
       "    <tr style=\"text-align: right;\">\n",
       "      <th></th>\n",
       "      <th>store_id</th>\n",
       "      <th>attribute_id</th>\n",
       "      <th>attribute_float_val</th>\n",
       "    </tr>\n",
       "  </thead>\n",
       "  <tbody>\n",
       "    <tr>\n",
       "      <th>0</th>\n",
       "      <td>631</td>\n",
       "      <td>8</td>\n",
       "      <td>9447217.69</td>\n",
       "    </tr>\n",
       "    <tr>\n",
       "      <th>1</th>\n",
       "      <td>501</td>\n",
       "      <td>8</td>\n",
       "      <td>8807968.29</td>\n",
       "    </tr>\n",
       "    <tr>\n",
       "      <th>2</th>\n",
       "      <td>486</td>\n",
       "      <td>8</td>\n",
       "      <td>4038617.13</td>\n",
       "    </tr>\n",
       "  </tbody>\n",
       "</table>\n",
       "</div>"
      ],
      "text/plain": [
       "   store_id  attribute_id  attribute_float_val\n",
       "0       631             8           9447217.69\n",
       "1       501             8           8807968.29\n",
       "2       486             8           4038617.13"
      ]
     },
     "execution_count": 14,
     "metadata": {},
     "output_type": "execute_result"
    }
   ],
   "source": [
    "df1.head(3)"
   ]
  },
  {
   "cell_type": "code",
   "execution_count": 15,
   "metadata": {},
   "outputs": [
    {
     "data": {
      "text/html": [
       "<div>\n",
       "<style scoped>\n",
       "    .dataframe tbody tr th:only-of-type {\n",
       "        vertical-align: middle;\n",
       "    }\n",
       "\n",
       "    .dataframe tbody tr th {\n",
       "        vertical-align: top;\n",
       "    }\n",
       "\n",
       "    .dataframe thead th {\n",
       "        text-align: right;\n",
       "    }\n",
       "</style>\n",
       "<table border=\"1\" class=\"dataframe\">\n",
       "  <thead>\n",
       "    <tr style=\"text-align: right;\">\n",
       "      <th></th>\n",
       "      <th>store_id</th>\n",
       "      <th>attribute_id</th>\n",
       "      <th>attribute_int_val</th>\n",
       "    </tr>\n",
       "  </thead>\n",
       "  <tbody>\n",
       "    <tr>\n",
       "      <th>8915</th>\n",
       "      <td>526</td>\n",
       "      <td>28</td>\n",
       "      <td>1433.0</td>\n",
       "    </tr>\n",
       "    <tr>\n",
       "      <th>8916</th>\n",
       "      <td>659</td>\n",
       "      <td>28</td>\n",
       "      <td>1200.0</td>\n",
       "    </tr>\n",
       "    <tr>\n",
       "      <th>8920</th>\n",
       "      <td>390</td>\n",
       "      <td>35</td>\n",
       "      <td>15524.0</td>\n",
       "    </tr>\n",
       "  </tbody>\n",
       "</table>\n",
       "</div>"
      ],
      "text/plain": [
       "      store_id  attribute_id  attribute_int_val\n",
       "8915       526            28             1433.0\n",
       "8916       659            28             1200.0\n",
       "8920       390            35            15524.0"
      ]
     },
     "execution_count": 15,
     "metadata": {},
     "output_type": "execute_result"
    }
   ],
   "source": [
    "df2.head(3)"
   ]
  },
  {
   "cell_type": "code",
   "execution_count": 16,
   "metadata": {},
   "outputs": [
    {
     "data": {
      "text/html": [
       "<div>\n",
       "<style scoped>\n",
       "    .dataframe tbody tr th:only-of-type {\n",
       "        vertical-align: middle;\n",
       "    }\n",
       "\n",
       "    .dataframe tbody tr th {\n",
       "        vertical-align: top;\n",
       "    }\n",
       "\n",
       "    .dataframe thead th {\n",
       "        text-align: right;\n",
       "    }\n",
       "</style>\n",
       "<table border=\"1\" class=\"dataframe\">\n",
       "  <thead>\n",
       "    <tr style=\"text-align: right;\">\n",
       "      <th></th>\n",
       "      <th>store_id</th>\n",
       "      <th>attribute_id</th>\n",
       "      <th>attribute_str_val</th>\n",
       "    </tr>\n",
       "  </thead>\n",
       "  <tbody>\n",
       "    <tr>\n",
       "      <th>8917</th>\n",
       "      <td>390</td>\n",
       "      <td>36</td>\n",
       "      <td>Unknown</td>\n",
       "    </tr>\n",
       "    <tr>\n",
       "      <th>8918</th>\n",
       "      <td>390</td>\n",
       "      <td>15</td>\n",
       "      <td>New &amp; Closed Stores</td>\n",
       "    </tr>\n",
       "    <tr>\n",
       "      <th>8919</th>\n",
       "      <td>390</td>\n",
       "      <td>9</td>\n",
       "      <td>ID</td>\n",
       "    </tr>\n",
       "  </tbody>\n",
       "</table>\n",
       "</div>"
      ],
      "text/plain": [
       "      store_id  attribute_id    attribute_str_val\n",
       "8917       390            36              Unknown\n",
       "8918       390            15  New & Closed Stores\n",
       "8919       390             9                   ID"
      ]
     },
     "execution_count": 16,
     "metadata": {},
     "output_type": "execute_result"
    }
   ],
   "source": [
    "df3.head(3)"
   ]
  },
  {
   "cell_type": "code",
   "execution_count": 17,
   "metadata": {},
   "outputs": [
    {
     "data": {
      "text/plain": [
       "((337,), (337,), (337,))"
      ]
     },
     "execution_count": 17,
     "metadata": {},
     "output_type": "execute_result"
    }
   ],
   "source": [
    "pd.unique(df1.store_id).shape, pd.unique(df2.store_id).shape, pd.unique(df3.store_id).shape"
   ]
  },
  {
   "cell_type": "code",
   "execution_count": null,
   "metadata": {},
   "outputs": [],
   "source": []
  },
  {
   "cell_type": "code",
   "execution_count": 18,
   "metadata": {},
   "outputs": [
    {
     "data": {
      "text/plain": [
       "Index(['store_id', 'attribute_id', 'attribute_str_val'], dtype='object')"
      ]
     },
     "execution_count": 18,
     "metadata": {},
     "output_type": "execute_result"
    }
   ],
   "source": [
    "df3.columns"
   ]
  },
  {
   "cell_type": "code",
   "execution_count": 19,
   "metadata": {},
   "outputs": [],
   "source": [
    "\n",
    "df3_pivot = pd.pivot_table(df3,  values=\"attribute_str_val\", index=df3.store_id, columns=\"attribute_id\", aggfunc=\"first\").reset_index()\n",
    "\n"
   ]
  },
  {
   "cell_type": "code",
   "execution_count": 20,
   "metadata": {},
   "outputs": [],
   "source": [
    "df2_pivot = pd.pivot_table(df2,  values=\"attribute_int_val\", index=df2.store_id, columns=\"attribute_id\", aggfunc=\"first\").reset_index()\n",
    "\n"
   ]
  },
  {
   "cell_type": "code",
   "execution_count": 21,
   "metadata": {},
   "outputs": [],
   "source": [
    "df1_pivot = pd.pivot_table(df1,  values=\"attribute_float_val\", index=df1.store_id, columns=\"attribute_id\", aggfunc=\"first\").reset_index()\n",
    "\n"
   ]
  },
  {
   "cell_type": "code",
   "execution_count": 22,
   "metadata": {},
   "outputs": [
    {
     "data": {
      "text/plain": [
       "(0, 0, 1323)"
      ]
     },
     "execution_count": 22,
     "metadata": {},
     "output_type": "execute_result"
    }
   ],
   "source": [
    "df3_pivot.isnull().sum().sum(),df2_pivot.isnull().sum().sum(), df1_pivot.isnull().sum().sum()\n",
    "\n"
   ]
  },
  {
   "cell_type": "code",
   "execution_count": 23,
   "metadata": {},
   "outputs": [
    {
     "data": {
      "text/plain": [
       "(337, 48)"
      ]
     },
     "execution_count": 23,
     "metadata": {},
     "output_type": "execute_result"
    }
   ],
   "source": [
    "df1_pivot.shape"
   ]
  },
  {
   "cell_type": "code",
   "execution_count": 24,
   "metadata": {},
   "outputs": [
    {
     "data": {
      "text/plain": [
       "attribute_id\n",
       "store_id     0.000000\n",
       "1            0.890208\n",
       "2            0.890208\n",
       "3            4.154303\n",
       "4            4.154303\n",
       "5           82.789318\n",
       "6            0.890208\n",
       "7            4.154303\n",
       "8            3.857567\n",
       "10           0.890208\n",
       "11           0.890208\n",
       "12          83.086053\n",
       "13           0.890208\n",
       "14           0.890208\n",
       "16           4.154303\n",
       "17           4.154303\n",
       "18           9.495549\n",
       "19           4.154303\n",
       "20           4.154303\n",
       "21           4.154303\n",
       "22           0.890208\n",
       "23           4.154303\n",
       "24           0.890208\n",
       "25           0.890208\n",
       "26           4.154303\n",
       "27           4.154303\n",
       "29           4.154303\n",
       "30           0.890208\n",
       "31           4.154303\n",
       "32           4.154303\n",
       "33           0.890208\n",
       "34           0.890208\n",
       "37           0.890208\n",
       "38           0.890208\n",
       "39          17.210682\n",
       "40           4.154303\n",
       "41           0.890208\n",
       "42           0.890208\n",
       "43           0.890208\n",
       "44           4.154303\n",
       "45           4.451039\n",
       "46           0.890208\n",
       "47           4.154303\n",
       "48           0.890208\n",
       "49           0.890208\n",
       "50           4.154303\n",
       "52           0.890208\n",
       "53          97.329377\n",
       "dtype: float64"
      ]
     },
     "execution_count": 24,
     "metadata": {},
     "output_type": "execute_result"
    }
   ],
   "source": [
    "### missing values percentage\n",
    "\n",
    "df1_pivot.isnull().sum()/337*100"
   ]
  },
  {
   "cell_type": "code",
   "execution_count": 25,
   "metadata": {},
   "outputs": [
    {
     "data": {
      "text/plain": [
       "count    9.000000\n",
       "mean     0.164589\n",
       "std      0.156900\n",
       "min      0.029800\n",
       "25%      0.043700\n",
       "50%      0.071600\n",
       "75%      0.235700\n",
       "max      0.443700\n",
       "Name: 53, dtype: float64"
      ]
     },
     "execution_count": 25,
     "metadata": {},
     "output_type": "execute_result"
    }
   ],
   "source": [
    "df1_pivot[53].describe()"
   ]
  },
  {
   "cell_type": "code",
   "execution_count": 30,
   "metadata": {},
   "outputs": [
    {
     "data": {
      "text/plain": [
       "0.0716"
      ]
     },
     "execution_count": 30,
     "metadata": {},
     "output_type": "execute_result"
    }
   ],
   "source": [
    "df1_pivot[53].median()"
   ]
  },
  {
   "cell_type": "code",
   "execution_count": 31,
   "metadata": {},
   "outputs": [
    {
     "data": {
      "text/plain": [
       "(array([55.,  0.,  0.,  1.,  0.,  0.,  0.,  0.,  0.,  1.]),\n",
       " array([ 0.2511 ,  3.32009,  6.38908,  9.45807, 12.52706, 15.59605,\n",
       "        18.66504, 21.73403, 24.80302, 27.87201, 30.941  ]),\n",
       " <BarContainer object of 10 artists>)"
      ]
     },
     "execution_count": 31,
     "metadata": {},
     "output_type": "execute_result"
    },
    {
     "data": {
      "image/png": "[encoded data removed]",
      "text/plain": [
       "<Figure size 432x288 with 1 Axes>"
      ]
     },
     "metadata": {
      "needs_background": "light"
     },
     "output_type": "display_data"
    }
   ],
   "source": [
    "plt.hist(df1_pivot[12])"
   ]
  },
  {
   "cell_type": "code",
   "execution_count": 32,
   "metadata": {},
   "outputs": [],
   "source": [
    "# dropping feature columns with more than 50% null values\n",
    "\n",
    "# df1_pivot = df1_pivot.drop(columns = [5, 12, 53])"
   ]
  },
  {
   "cell_type": "code",
   "execution_count": 33,
   "metadata": {},
   "outputs": [
    {
     "data": {
      "text/html": [
       "<div>\n",
       "<style scoped>\n",
       "    .dataframe tbody tr th:only-of-type {\n",
       "        vertical-align: middle;\n",
       "    }\n",
       "\n",
       "    .dataframe tbody tr th {\n",
       "        vertical-align: top;\n",
       "    }\n",
       "\n",
       "    .dataframe thead th {\n",
       "        text-align: right;\n",
       "    }\n",
       "</style>\n",
       "<table border=\"1\" class=\"dataframe\">\n",
       "  <thead>\n",
       "    <tr style=\"text-align: right;\">\n",
       "      <th>attribute_id</th>\n",
       "      <th>store_id</th>\n",
       "      <th>9</th>\n",
       "      <th>15</th>\n",
       "      <th>36</th>\n",
       "      <th>51</th>\n",
       "    </tr>\n",
       "  </thead>\n",
       "  <tbody>\n",
       "    <tr>\n",
       "      <th>0</th>\n",
       "      <td>338</td>\n",
       "      <td>CO</td>\n",
       "      <td>Red Rock</td>\n",
       "      <td>ADVENTURE</td>\n",
       "      <td>CO-AURORA-579</td>\n",
       "    </tr>\n",
       "    <tr>\n",
       "      <th>1</th>\n",
       "      <td>339</td>\n",
       "      <td>UT</td>\n",
       "      <td>Red Rock</td>\n",
       "      <td>COUNTRY</td>\n",
       "      <td>UT-CEDAR CITY-244</td>\n",
       "    </tr>\n",
       "    <tr>\n",
       "      <th>2</th>\n",
       "      <td>340</td>\n",
       "      <td>UT</td>\n",
       "      <td>Canyon</td>\n",
       "      <td>ADVENTURE BTO</td>\n",
       "      <td>UT-SaltLake-539</td>\n",
       "    </tr>\n",
       "    <tr>\n",
       "      <th>3</th>\n",
       "      <td>341</td>\n",
       "      <td>AZ</td>\n",
       "      <td>Red Rock</td>\n",
       "      <td>ADVENTURE</td>\n",
       "      <td>AZ-SHOW LOW-388</td>\n",
       "    </tr>\n",
       "    <tr>\n",
       "      <th>4</th>\n",
       "      <td>342</td>\n",
       "      <td>OR</td>\n",
       "      <td>White Water</td>\n",
       "      <td>ADVENTURE</td>\n",
       "      <td>OR-BAKER CITY-439</td>\n",
       "    </tr>\n",
       "  </tbody>\n",
       "</table>\n",
       "</div>"
      ],
      "text/plain": [
       "attribute_id  store_id   9           15             36                 51\n",
       "0                  338  CO     Red Rock     ADVENTURE       CO-AURORA-579\n",
       "1                  339  UT     Red Rock        COUNTRY  UT-CEDAR CITY-244\n",
       "2                  340  UT       Canyon  ADVENTURE BTO    UT-SaltLake-539\n",
       "3                  341  AZ     Red Rock     ADVENTURE     AZ-SHOW LOW-388\n",
       "4                  342  OR  White Water     ADVENTURE   OR-BAKER CITY-439"
      ]
     },
     "execution_count": 33,
     "metadata": {},
     "output_type": "execute_result"
    }
   ],
   "source": [
    "df3_pivot.head()"
   ]
  },
  {
   "cell_type": "code",
   "execution_count": 34,
   "metadata": {},
   "outputs": [
    {
     "data": {
      "text/html": [
       "<div>\n",
       "<style scoped>\n",
       "    .dataframe tbody tr th:only-of-type {\n",
       "        vertical-align: middle;\n",
       "    }\n",
       "\n",
       "    .dataframe tbody tr th {\n",
       "        vertical-align: top;\n",
       "    }\n",
       "\n",
       "    .dataframe thead th {\n",
       "        text-align: right;\n",
       "    }\n",
       "</style>\n",
       "<table border=\"1\" class=\"dataframe\">\n",
       "  <thead>\n",
       "    <tr style=\"text-align: right;\">\n",
       "      <th>attribute_id</th>\n",
       "      <th>store_id</th>\n",
       "      <th>28</th>\n",
       "      <th>35</th>\n",
       "    </tr>\n",
       "  </thead>\n",
       "  <tbody>\n",
       "    <tr>\n",
       "      <th>0</th>\n",
       "      <td>338</td>\n",
       "      <td>4600.0</td>\n",
       "      <td>6993.0</td>\n",
       "    </tr>\n",
       "    <tr>\n",
       "      <th>1</th>\n",
       "      <td>339</td>\n",
       "      <td>2285.0</td>\n",
       "      <td>9078.0</td>\n",
       "    </tr>\n",
       "    <tr>\n",
       "      <th>2</th>\n",
       "      <td>340</td>\n",
       "      <td>5945.0</td>\n",
       "      <td>6993.0</td>\n",
       "    </tr>\n",
       "    <tr>\n",
       "      <th>3</th>\n",
       "      <td>341</td>\n",
       "      <td>4200.0</td>\n",
       "      <td>3703.0</td>\n",
       "    </tr>\n",
       "    <tr>\n",
       "      <th>4</th>\n",
       "      <td>342</td>\n",
       "      <td>4300.0</td>\n",
       "      <td>2442.0</td>\n",
       "    </tr>\n",
       "  </tbody>\n",
       "</table>\n",
       "</div>"
      ],
      "text/plain": [
       "attribute_id  store_id      28      35\n",
       "0                  338  4600.0  6993.0\n",
       "1                  339  2285.0  9078.0\n",
       "2                  340  5945.0  6993.0\n",
       "3                  341  4200.0  3703.0\n",
       "4                  342  4300.0  2442.0"
      ]
     },
     "execution_count": 34,
     "metadata": {},
     "output_type": "execute_result"
    }
   ],
   "source": [
    "df2_pivot.head()"
   ]
  },
  {
   "cell_type": "code",
   "execution_count": 35,
   "metadata": {},
   "outputs": [
    {
     "data": {
      "text/plain": [
       "(337, 48)"
      ]
     },
     "execution_count": 35,
     "metadata": {},
     "output_type": "execute_result"
    }
   ],
   "source": [
    "df1_pivot.shape"
   ]
  },
  {
   "cell_type": "code",
   "execution_count": null,
   "metadata": {},
   "outputs": [],
   "source": []
  },
  {
   "cell_type": "code",
   "execution_count": 36,
   "metadata": {},
   "outputs": [
    {
     "data": {
      "text/html": [
       "<div>\n",
       "<style scoped>\n",
       "    .dataframe tbody tr th:only-of-type {\n",
       "        vertical-align: middle;\n",
       "    }\n",
       "\n",
       "    .dataframe tbody tr th {\n",
       "        vertical-align: top;\n",
       "    }\n",
       "\n",
       "    .dataframe thead th {\n",
       "        text-align: right;\n",
       "    }\n",
       "</style>\n",
       "<table border=\"1\" class=\"dataframe\">\n",
       "  <thead>\n",
       "    <tr style=\"text-align: right;\">\n",
       "      <th>attribute_id</th>\n",
       "      <th>store_id</th>\n",
       "      <th>1</th>\n",
       "      <th>2</th>\n",
       "      <th>3</th>\n",
       "      <th>4</th>\n",
       "      <th>5</th>\n",
       "      <th>6</th>\n",
       "      <th>7</th>\n",
       "      <th>8</th>\n",
       "      <th>10</th>\n",
       "      <th>...</th>\n",
       "      <th>43</th>\n",
       "      <th>44</th>\n",
       "      <th>45</th>\n",
       "      <th>46</th>\n",
       "      <th>47</th>\n",
       "      <th>48</th>\n",
       "      <th>49</th>\n",
       "      <th>50</th>\n",
       "      <th>52</th>\n",
       "      <th>53</th>\n",
       "    </tr>\n",
       "  </thead>\n",
       "  <tbody>\n",
       "    <tr>\n",
       "      <th>0</th>\n",
       "      <td>338</td>\n",
       "      <td>4860.41</td>\n",
       "      <td>0.2087</td>\n",
       "      <td>0.9293</td>\n",
       "      <td>0.1495</td>\n",
       "      <td>NaN</td>\n",
       "      <td>6.0</td>\n",
       "      <td>0.1455</td>\n",
       "      <td>4787174.31</td>\n",
       "      <td>4.3019</td>\n",
       "      <td>...</td>\n",
       "      <td>-104.7386</td>\n",
       "      <td>1.7362</td>\n",
       "      <td>78.8092</td>\n",
       "      <td>9.4235</td>\n",
       "      <td>0.0272</td>\n",
       "      <td>53186.0</td>\n",
       "      <td>0.3234</td>\n",
       "      <td>6.4630</td>\n",
       "      <td>5499.0</td>\n",
       "      <td>NaN</td>\n",
       "    </tr>\n",
       "    <tr>\n",
       "      <th>1</th>\n",
       "      <td>339</td>\n",
       "      <td>2546.26</td>\n",
       "      <td>0.4454</td>\n",
       "      <td>0.4954</td>\n",
       "      <td>0.2152</td>\n",
       "      <td>0.0147</td>\n",
       "      <td>5.0</td>\n",
       "      <td>0.2470</td>\n",
       "      <td>3868819.68</td>\n",
       "      <td>2.0088</td>\n",
       "      <td>...</td>\n",
       "      <td>-113.0741</td>\n",
       "      <td>3.0488</td>\n",
       "      <td>63.6985</td>\n",
       "      <td>1.0423</td>\n",
       "      <td>0.0460</td>\n",
       "      <td>22451.0</td>\n",
       "      <td>2.2360</td>\n",
       "      <td>3.3932</td>\n",
       "      <td>12718.0</td>\n",
       "      <td>NaN</td>\n",
       "    </tr>\n",
       "    <tr>\n",
       "      <th>2</th>\n",
       "      <td>340</td>\n",
       "      <td>2446.60</td>\n",
       "      <td>1.1300</td>\n",
       "      <td>1.0012</td>\n",
       "      <td>0.0001</td>\n",
       "      <td>NaN</td>\n",
       "      <td>22.0</td>\n",
       "      <td>0.1606</td>\n",
       "      <td>1624734.44</td>\n",
       "      <td>2.5842</td>\n",
       "      <td>...</td>\n",
       "      <td>-111.8870</td>\n",
       "      <td>8.9465</td>\n",
       "      <td>NaN</td>\n",
       "      <td>3.0910</td>\n",
       "      <td>0.1284</td>\n",
       "      <td>75574.0</td>\n",
       "      <td>1.2107</td>\n",
       "      <td>22.9760</td>\n",
       "      <td>137251.0</td>\n",
       "      <td>NaN</td>\n",
       "    </tr>\n",
       "    <tr>\n",
       "      <th>3</th>\n",
       "      <td>341</td>\n",
       "      <td>2526.21</td>\n",
       "      <td>0.1700</td>\n",
       "      <td>0.2454</td>\n",
       "      <td>0.2416</td>\n",
       "      <td>NaN</td>\n",
       "      <td>4.0</td>\n",
       "      <td>0.1906</td>\n",
       "      <td>13185248.22</td>\n",
       "      <td>1.7727</td>\n",
       "      <td>...</td>\n",
       "      <td>-110.0182</td>\n",
       "      <td>2.2278</td>\n",
       "      <td>77.9783</td>\n",
       "      <td>0.4614</td>\n",
       "      <td>0.0210</td>\n",
       "      <td>4118.0</td>\n",
       "      <td>3.3511</td>\n",
       "      <td>3.5039</td>\n",
       "      <td>3908.0</td>\n",
       "      <td>NaN</td>\n",
       "    </tr>\n",
       "    <tr>\n",
       "      <th>4</th>\n",
       "      <td>342</td>\n",
       "      <td>2368.64</td>\n",
       "      <td>0.0202</td>\n",
       "      <td>0.4319</td>\n",
       "      <td>0.2248</td>\n",
       "      <td>NaN</td>\n",
       "      <td>5.0</td>\n",
       "      <td>0.1988</td>\n",
       "      <td>7851917.14</td>\n",
       "      <td>2.4074</td>\n",
       "      <td>...</td>\n",
       "      <td>-117.8227</td>\n",
       "      <td>2.4932</td>\n",
       "      <td>71.6176</td>\n",
       "      <td>0.7586</td>\n",
       "      <td>0.0473</td>\n",
       "      <td>9886.0</td>\n",
       "      <td>1.1633</td>\n",
       "      <td>3.7059</td>\n",
       "      <td>5714.0</td>\n",
       "      <td>NaN</td>\n",
       "    </tr>\n",
       "  </tbody>\n",
       "</table>\n",
       "<p>5 rows × 48 columns</p>\n",
       "</div>"
      ],
      "text/plain": [
       "attribute_id  store_id        1       2       3       4       5     6       7  \\\n",
       "0                  338  4860.41  0.2087  0.9293  0.1495     NaN   6.0  0.1455   \n",
       "1                  339  2546.26  0.4454  0.4954  0.2152  0.0147   5.0  0.2470   \n",
       "2                  340  2446.60  1.1300  1.0012  0.0001     NaN  22.0  0.1606   \n",
       "3                  341  2526.21  0.1700  0.2454  0.2416     NaN   4.0  0.1906   \n",
       "4                  342  2368.64  0.0202  0.4319  0.2248     NaN   5.0  0.1988   \n",
       "\n",
       "attribute_id            8      10  ...        43      44       45      46  \\\n",
       "0              4787174.31  4.3019  ... -104.7386  1.7362  78.8092  9.4235   \n",
       "1              3868819.68  2.0088  ... -113.0741  3.0488  63.6985  1.0423   \n",
       "2              1624734.44  2.5842  ... -111.8870  8.9465      NaN  3.0910   \n",
       "3             13185248.22  1.7727  ... -110.0182  2.2278  77.9783  0.4614   \n",
       "4              7851917.14  2.4074  ... -117.8227  2.4932  71.6176  0.7586   \n",
       "\n",
       "attribute_id      47       48      49       50        52  53  \n",
       "0             0.0272  53186.0  0.3234   6.4630    5499.0 NaN  \n",
       "1             0.0460  22451.0  2.2360   3.3932   12718.0 NaN  \n",
       "2             0.1284  75574.0  1.2107  22.9760  137251.0 NaN  \n",
       "3             0.0210   4118.0  3.3511   3.5039    3908.0 NaN  \n",
       "4             0.0473   9886.0  1.1633   3.7059    5714.0 NaN  \n",
       "\n",
       "[5 rows x 48 columns]"
      ]
     },
     "execution_count": 36,
     "metadata": {},
     "output_type": "execute_result"
    }
   ],
   "source": [
    "df1_pivot.head()"
   ]
  },
  {
   "cell_type": "code",
   "execution_count": 37,
   "metadata": {},
   "outputs": [],
   "source": [
    "#\n",
    "for col in df1_pivot.columns:\n",
    "    df1_pivot[col] = df1_pivot[col].fillna(df1_pivot[col].mean())\n",
    "\n",
    "# some features have a LOT of missing values. Need to remove them. This is TODO"
   ]
  },
  {
   "cell_type": "code",
   "execution_count": 38,
   "metadata": {},
   "outputs": [
    {
     "data": {
      "text/plain": [
       "0"
      ]
     },
     "execution_count": 38,
     "metadata": {},
     "output_type": "execute_result"
    }
   ],
   "source": [
    "df1_pivot.isnull().sum().sum()"
   ]
  },
  {
   "cell_type": "code",
   "execution_count": 39,
   "metadata": {},
   "outputs": [],
   "source": [
    "store_w_features = df1_pivot.merge(df2_pivot).merge(df3_pivot).reset_index()"
   ]
  },
  {
   "cell_type": "code",
   "execution_count": 40,
   "metadata": {},
   "outputs": [
    {
     "data": {
      "text/html": [
       "<div>\n",
       "<style scoped>\n",
       "    .dataframe tbody tr th:only-of-type {\n",
       "        vertical-align: middle;\n",
       "    }\n",
       "\n",
       "    .dataframe tbody tr th {\n",
       "        vertical-align: top;\n",
       "    }\n",
       "\n",
       "    .dataframe thead th {\n",
       "        text-align: right;\n",
       "    }\n",
       "</style>\n",
       "<table border=\"1\" class=\"dataframe\">\n",
       "  <thead>\n",
       "    <tr style=\"text-align: right;\">\n",
       "      <th>attribute_id</th>\n",
       "      <th>index</th>\n",
       "      <th>store_id</th>\n",
       "      <th>1</th>\n",
       "      <th>2</th>\n",
       "      <th>3</th>\n",
       "      <th>4</th>\n",
       "      <th>5</th>\n",
       "      <th>6</th>\n",
       "      <th>7</th>\n",
       "      <th>8</th>\n",
       "      <th>...</th>\n",
       "      <th>49</th>\n",
       "      <th>50</th>\n",
       "      <th>52</th>\n",
       "      <th>53</th>\n",
       "      <th>28</th>\n",
       "      <th>35</th>\n",
       "      <th>9</th>\n",
       "      <th>15</th>\n",
       "      <th>36</th>\n",
       "      <th>51</th>\n",
       "    </tr>\n",
       "  </thead>\n",
       "  <tbody>\n",
       "    <tr>\n",
       "      <th>0</th>\n",
       "      <td>0</td>\n",
       "      <td>338</td>\n",
       "      <td>4860.41</td>\n",
       "      <td>0.2087</td>\n",
       "      <td>0.9293</td>\n",
       "      <td>0.1495</td>\n",
       "      <td>0.028719</td>\n",
       "      <td>6.0</td>\n",
       "      <td>0.1455</td>\n",
       "      <td>4787174.31</td>\n",
       "      <td>...</td>\n",
       "      <td>0.3234</td>\n",
       "      <td>6.4630</td>\n",
       "      <td>5499.0</td>\n",
       "      <td>0.164589</td>\n",
       "      <td>4600.0</td>\n",
       "      <td>6993.0</td>\n",
       "      <td>CO</td>\n",
       "      <td>Red Rock</td>\n",
       "      <td>ADVENTURE</td>\n",
       "      <td>CO-AURORA-579</td>\n",
       "    </tr>\n",
       "    <tr>\n",
       "      <th>1</th>\n",
       "      <td>1</td>\n",
       "      <td>339</td>\n",
       "      <td>2546.26</td>\n",
       "      <td>0.4454</td>\n",
       "      <td>0.4954</td>\n",
       "      <td>0.2152</td>\n",
       "      <td>0.014700</td>\n",
       "      <td>5.0</td>\n",
       "      <td>0.2470</td>\n",
       "      <td>3868819.68</td>\n",
       "      <td>...</td>\n",
       "      <td>2.2360</td>\n",
       "      <td>3.3932</td>\n",
       "      <td>12718.0</td>\n",
       "      <td>0.164589</td>\n",
       "      <td>2285.0</td>\n",
       "      <td>9078.0</td>\n",
       "      <td>UT</td>\n",
       "      <td>Red Rock</td>\n",
       "      <td>COUNTRY</td>\n",
       "      <td>UT-CEDAR CITY-244</td>\n",
       "    </tr>\n",
       "    <tr>\n",
       "      <th>2</th>\n",
       "      <td>2</td>\n",
       "      <td>340</td>\n",
       "      <td>2446.60</td>\n",
       "      <td>1.1300</td>\n",
       "      <td>1.0012</td>\n",
       "      <td>0.0001</td>\n",
       "      <td>0.028719</td>\n",
       "      <td>22.0</td>\n",
       "      <td>0.1606</td>\n",
       "      <td>1624734.44</td>\n",
       "      <td>...</td>\n",
       "      <td>1.2107</td>\n",
       "      <td>22.9760</td>\n",
       "      <td>137251.0</td>\n",
       "      <td>0.164589</td>\n",
       "      <td>5945.0</td>\n",
       "      <td>6993.0</td>\n",
       "      <td>UT</td>\n",
       "      <td>Canyon</td>\n",
       "      <td>ADVENTURE BTO</td>\n",
       "      <td>UT-SaltLake-539</td>\n",
       "    </tr>\n",
       "  </tbody>\n",
       "</table>\n",
       "<p>3 rows × 55 columns</p>\n",
       "</div>"
      ],
      "text/plain": [
       "attribute_id  index  store_id        1       2       3       4         5  \\\n",
       "0                 0       338  4860.41  0.2087  0.9293  0.1495  0.028719   \n",
       "1                 1       339  2546.26  0.4454  0.4954  0.2152  0.014700   \n",
       "2                 2       340  2446.60  1.1300  1.0012  0.0001  0.028719   \n",
       "\n",
       "attribute_id     6       7           8  ...      49       50        52  \\\n",
       "0              6.0  0.1455  4787174.31  ...  0.3234   6.4630    5499.0   \n",
       "1              5.0  0.2470  3868819.68  ...  2.2360   3.3932   12718.0   \n",
       "2             22.0  0.1606  1624734.44  ...  1.2107  22.9760  137251.0   \n",
       "\n",
       "attribute_id        53      28      35   9        15             36  \\\n",
       "0             0.164589  4600.0  6993.0  CO  Red Rock     ADVENTURE    \n",
       "1             0.164589  2285.0  9078.0  UT  Red Rock        COUNTRY   \n",
       "2             0.164589  5945.0  6993.0  UT    Canyon  ADVENTURE BTO   \n",
       "\n",
       "attribute_id                 51  \n",
       "0                 CO-AURORA-579  \n",
       "1             UT-CEDAR CITY-244  \n",
       "2               UT-SaltLake-539  \n",
       "\n",
       "[3 rows x 55 columns]"
      ]
     },
     "execution_count": 40,
     "metadata": {},
     "output_type": "execute_result"
    }
   ],
   "source": [
    "store_w_features.head(3)"
   ]
  },
  {
   "cell_type": "code",
   "execution_count": 41,
   "metadata": {},
   "outputs": [],
   "source": [
    "store_w_ohe_features = pd.get_dummies(store_w_features)"
   ]
  },
  {
   "cell_type": "code",
   "execution_count": 42,
   "metadata": {},
   "outputs": [
    {
     "data": {
      "text/html": [
       "<div>\n",
       "<style scoped>\n",
       "    .dataframe tbody tr th:only-of-type {\n",
       "        vertical-align: middle;\n",
       "    }\n",
       "\n",
       "    .dataframe tbody tr th {\n",
       "        vertical-align: top;\n",
       "    }\n",
       "\n",
       "    .dataframe thead th {\n",
       "        text-align: right;\n",
       "    }\n",
       "</style>\n",
       "<table border=\"1\" class=\"dataframe\">\n",
       "  <thead>\n",
       "    <tr style=\"text-align: right;\">\n",
       "      <th></th>\n",
       "      <th>index</th>\n",
       "      <th>store_id</th>\n",
       "      <th>1</th>\n",
       "      <th>2</th>\n",
       "      <th>3</th>\n",
       "      <th>4</th>\n",
       "      <th>5</th>\n",
       "      <th>6</th>\n",
       "      <th>7</th>\n",
       "      <th>8</th>\n",
       "      <th>...</th>\n",
       "      <th>51_WY-POWELL-346</th>\n",
       "      <th>51_WY-RIVERTON-192</th>\n",
       "      <th>51_WY-RIVERTON-193</th>\n",
       "      <th>51_WY-SHERIDAN-135</th>\n",
       "      <th>51_WY-SHERIDAN-344</th>\n",
       "      <th>51_WY-THAYNE-276</th>\n",
       "      <th>51_WY-THERMOPOLIS-577</th>\n",
       "      <th>51_WY-TORRINGTON-293</th>\n",
       "      <th>51_WY-WHEATLAND-391</th>\n",
       "      <th>51_WY-WORLAND-166</th>\n",
       "    </tr>\n",
       "  </thead>\n",
       "  <tbody>\n",
       "    <tr>\n",
       "      <th>0</th>\n",
       "      <td>0</td>\n",
       "      <td>338</td>\n",
       "      <td>4860.41</td>\n",
       "      <td>0.2087</td>\n",
       "      <td>0.9293</td>\n",
       "      <td>0.1495</td>\n",
       "      <td>0.028719</td>\n",
       "      <td>6.0</td>\n",
       "      <td>0.1455</td>\n",
       "      <td>4787174.31</td>\n",
       "      <td>...</td>\n",
       "      <td>0</td>\n",
       "      <td>0</td>\n",
       "      <td>0</td>\n",
       "      <td>0</td>\n",
       "      <td>0</td>\n",
       "      <td>0</td>\n",
       "      <td>0</td>\n",
       "      <td>0</td>\n",
       "      <td>0</td>\n",
       "      <td>0</td>\n",
       "    </tr>\n",
       "    <tr>\n",
       "      <th>1</th>\n",
       "      <td>1</td>\n",
       "      <td>339</td>\n",
       "      <td>2546.26</td>\n",
       "      <td>0.4454</td>\n",
       "      <td>0.4954</td>\n",
       "      <td>0.2152</td>\n",
       "      <td>0.014700</td>\n",
       "      <td>5.0</td>\n",
       "      <td>0.2470</td>\n",
       "      <td>3868819.68</td>\n",
       "      <td>...</td>\n",
       "      <td>0</td>\n",
       "      <td>0</td>\n",
       "      <td>0</td>\n",
       "      <td>0</td>\n",
       "      <td>0</td>\n",
       "      <td>0</td>\n",
       "      <td>0</td>\n",
       "      <td>0</td>\n",
       "      <td>0</td>\n",
       "      <td>0</td>\n",
       "    </tr>\n",
       "    <tr>\n",
       "      <th>2</th>\n",
       "      <td>2</td>\n",
       "      <td>340</td>\n",
       "      <td>2446.60</td>\n",
       "      <td>1.1300</td>\n",
       "      <td>1.0012</td>\n",
       "      <td>0.0001</td>\n",
       "      <td>0.028719</td>\n",
       "      <td>22.0</td>\n",
       "      <td>0.1606</td>\n",
       "      <td>1624734.44</td>\n",
       "      <td>...</td>\n",
       "      <td>0</td>\n",
       "      <td>0</td>\n",
       "      <td>0</td>\n",
       "      <td>0</td>\n",
       "      <td>0</td>\n",
       "      <td>0</td>\n",
       "      <td>0</td>\n",
       "      <td>0</td>\n",
       "      <td>0</td>\n",
       "      <td>0</td>\n",
       "    </tr>\n",
       "  </tbody>\n",
       "</table>\n",
       "<p>3 rows × 408 columns</p>\n",
       "</div>"
      ],
      "text/plain": [
       "   index  store_id        1       2       3       4         5     6       7  \\\n",
       "0      0       338  4860.41  0.2087  0.9293  0.1495  0.028719   6.0  0.1455   \n",
       "1      1       339  2546.26  0.4454  0.4954  0.2152  0.014700   5.0  0.2470   \n",
       "2      2       340  2446.60  1.1300  1.0012  0.0001  0.028719  22.0  0.1606   \n",
       "\n",
       "            8  ...  51_WY-POWELL-346  51_WY-RIVERTON-192  51_WY-RIVERTON-193  \\\n",
       "0  4787174.31  ...                 0                   0                   0   \n",
       "1  3868819.68  ...                 0                   0                   0   \n",
       "2  1624734.44  ...                 0                   0                   0   \n",
       "\n",
       "   51_WY-SHERIDAN-135  51_WY-SHERIDAN-344  51_WY-THAYNE-276  \\\n",
       "0                   0                   0                 0   \n",
       "1                   0                   0                 0   \n",
       "2                   0                   0                 0   \n",
       "\n",
       "   51_WY-THERMOPOLIS-577  51_WY-TORRINGTON-293  51_WY-WHEATLAND-391  \\\n",
       "0                      0                     0                    0   \n",
       "1                      0                     0                    0   \n",
       "2                      0                     0                    0   \n",
       "\n",
       "   51_WY-WORLAND-166  \n",
       "0                  0  \n",
       "1                  0  \n",
       "2                  0  \n",
       "\n",
       "[3 rows x 408 columns]"
      ]
     },
     "execution_count": 42,
     "metadata": {},
     "output_type": "execute_result"
    }
   ],
   "source": [
    "store_w_ohe_features.head(3)"
   ]
  },
  {
   "cell_type": "code",
   "execution_count": 43,
   "metadata": {},
   "outputs": [
    {
     "data": {
      "text/html": [
       "<div>\n",
       "<style scoped>\n",
       "    .dataframe tbody tr th:only-of-type {\n",
       "        vertical-align: middle;\n",
       "    }\n",
       "\n",
       "    .dataframe tbody tr th {\n",
       "        vertical-align: top;\n",
       "    }\n",
       "\n",
       "    .dataframe thead th {\n",
       "        text-align: right;\n",
       "    }\n",
       "</style>\n",
       "<table border=\"1\" class=\"dataframe\">\n",
       "  <thead>\n",
       "    <tr style=\"text-align: right;\">\n",
       "      <th></th>\n",
       "      <th>1</th>\n",
       "      <th>2</th>\n",
       "      <th>3</th>\n",
       "      <th>4</th>\n",
       "      <th>5</th>\n",
       "      <th>6</th>\n",
       "      <th>7</th>\n",
       "      <th>8</th>\n",
       "      <th>10</th>\n",
       "      <th>11</th>\n",
       "      <th>...</th>\n",
       "      <th>51_WY-POWELL-346</th>\n",
       "      <th>51_WY-RIVERTON-192</th>\n",
       "      <th>51_WY-RIVERTON-193</th>\n",
       "      <th>51_WY-SHERIDAN-135</th>\n",
       "      <th>51_WY-SHERIDAN-344</th>\n",
       "      <th>51_WY-THAYNE-276</th>\n",
       "      <th>51_WY-THERMOPOLIS-577</th>\n",
       "      <th>51_WY-TORRINGTON-293</th>\n",
       "      <th>51_WY-WHEATLAND-391</th>\n",
       "      <th>51_WY-WORLAND-166</th>\n",
       "    </tr>\n",
       "  </thead>\n",
       "  <tbody>\n",
       "    <tr>\n",
       "      <th>0</th>\n",
       "      <td>4860.41</td>\n",
       "      <td>0.2087</td>\n",
       "      <td>0.9293</td>\n",
       "      <td>0.1495</td>\n",
       "      <td>0.028719</td>\n",
       "      <td>6.0</td>\n",
       "      <td>0.1455</td>\n",
       "      <td>4787174.31</td>\n",
       "      <td>4.3019</td>\n",
       "      <td>8.4082</td>\n",
       "      <td>...</td>\n",
       "      <td>0</td>\n",
       "      <td>0</td>\n",
       "      <td>0</td>\n",
       "      <td>0</td>\n",
       "      <td>0</td>\n",
       "      <td>0</td>\n",
       "      <td>0</td>\n",
       "      <td>0</td>\n",
       "      <td>0</td>\n",
       "      <td>0</td>\n",
       "    </tr>\n",
       "    <tr>\n",
       "      <th>1</th>\n",
       "      <td>2546.26</td>\n",
       "      <td>0.4454</td>\n",
       "      <td>0.4954</td>\n",
       "      <td>0.2152</td>\n",
       "      <td>0.014700</td>\n",
       "      <td>5.0</td>\n",
       "      <td>0.2470</td>\n",
       "      <td>3868819.68</td>\n",
       "      <td>2.0088</td>\n",
       "      <td>1.0779</td>\n",
       "      <td>...</td>\n",
       "      <td>0</td>\n",
       "      <td>0</td>\n",
       "      <td>0</td>\n",
       "      <td>0</td>\n",
       "      <td>0</td>\n",
       "      <td>0</td>\n",
       "      <td>0</td>\n",
       "      <td>0</td>\n",
       "      <td>0</td>\n",
       "      <td>0</td>\n",
       "    </tr>\n",
       "    <tr>\n",
       "      <th>2</th>\n",
       "      <td>2446.60</td>\n",
       "      <td>1.1300</td>\n",
       "      <td>1.0012</td>\n",
       "      <td>0.0001</td>\n",
       "      <td>0.028719</td>\n",
       "      <td>22.0</td>\n",
       "      <td>0.1606</td>\n",
       "      <td>1624734.44</td>\n",
       "      <td>2.5842</td>\n",
       "      <td>5.6805</td>\n",
       "      <td>...</td>\n",
       "      <td>0</td>\n",
       "      <td>0</td>\n",
       "      <td>0</td>\n",
       "      <td>0</td>\n",
       "      <td>0</td>\n",
       "      <td>0</td>\n",
       "      <td>0</td>\n",
       "      <td>0</td>\n",
       "      <td>0</td>\n",
       "      <td>0</td>\n",
       "    </tr>\n",
       "    <tr>\n",
       "      <th>3</th>\n",
       "      <td>2526.21</td>\n",
       "      <td>0.1700</td>\n",
       "      <td>0.2454</td>\n",
       "      <td>0.2416</td>\n",
       "      <td>0.028719</td>\n",
       "      <td>4.0</td>\n",
       "      <td>0.1906</td>\n",
       "      <td>13185248.22</td>\n",
       "      <td>1.7727</td>\n",
       "      <td>1.5542</td>\n",
       "      <td>...</td>\n",
       "      <td>0</td>\n",
       "      <td>0</td>\n",
       "      <td>0</td>\n",
       "      <td>0</td>\n",
       "      <td>0</td>\n",
       "      <td>0</td>\n",
       "      <td>0</td>\n",
       "      <td>0</td>\n",
       "      <td>0</td>\n",
       "      <td>0</td>\n",
       "    </tr>\n",
       "    <tr>\n",
       "      <th>4</th>\n",
       "      <td>2368.64</td>\n",
       "      <td>0.0202</td>\n",
       "      <td>0.4319</td>\n",
       "      <td>0.2248</td>\n",
       "      <td>0.028719</td>\n",
       "      <td>5.0</td>\n",
       "      <td>0.1988</td>\n",
       "      <td>7851917.14</td>\n",
       "      <td>2.4074</td>\n",
       "      <td>0.8598</td>\n",
       "      <td>...</td>\n",
       "      <td>0</td>\n",
       "      <td>0</td>\n",
       "      <td>0</td>\n",
       "      <td>0</td>\n",
       "      <td>0</td>\n",
       "      <td>0</td>\n",
       "      <td>0</td>\n",
       "      <td>0</td>\n",
       "      <td>0</td>\n",
       "      <td>0</td>\n",
       "    </tr>\n",
       "  </tbody>\n",
       "</table>\n",
       "<p>5 rows × 406 columns</p>\n",
       "</div>"
      ],
      "text/plain": [
       "         1       2       3       4         5     6       7            8  \\\n",
       "0  4860.41  0.2087  0.9293  0.1495  0.028719   6.0  0.1455   4787174.31   \n",
       "1  2546.26  0.4454  0.4954  0.2152  0.014700   5.0  0.2470   3868819.68   \n",
       "2  2446.60  1.1300  1.0012  0.0001  0.028719  22.0  0.1606   1624734.44   \n",
       "3  2526.21  0.1700  0.2454  0.2416  0.028719   4.0  0.1906  13185248.22   \n",
       "4  2368.64  0.0202  0.4319  0.2248  0.028719   5.0  0.1988   7851917.14   \n",
       "\n",
       "       10      11  ...  51_WY-POWELL-346  51_WY-RIVERTON-192  \\\n",
       "0  4.3019  8.4082  ...                 0                   0   \n",
       "1  2.0088  1.0779  ...                 0                   0   \n",
       "2  2.5842  5.6805  ...                 0                   0   \n",
       "3  1.7727  1.5542  ...                 0                   0   \n",
       "4  2.4074  0.8598  ...                 0                   0   \n",
       "\n",
       "   51_WY-RIVERTON-193  51_WY-SHERIDAN-135  51_WY-SHERIDAN-344  \\\n",
       "0                   0                   0                   0   \n",
       "1                   0                   0                   0   \n",
       "2                   0                   0                   0   \n",
       "3                   0                   0                   0   \n",
       "4                   0                   0                   0   \n",
       "\n",
       "   51_WY-THAYNE-276  51_WY-THERMOPOLIS-577  51_WY-TORRINGTON-293  \\\n",
       "0                 0                      0                     0   \n",
       "1                 0                      0                     0   \n",
       "2                 0                      0                     0   \n",
       "3                 0                      0                     0   \n",
       "4                 0                      0                     0   \n",
       "\n",
       "   51_WY-WHEATLAND-391  51_WY-WORLAND-166  \n",
       "0                    0                  0  \n",
       "1                    0                  0  \n",
       "2                    0                  0  \n",
       "3                    0                  0  \n",
       "4                    0                  0  \n",
       "\n",
       "[5 rows x 406 columns]"
      ]
     },
     "execution_count": 43,
     "metadata": {},
     "output_type": "execute_result"
    }
   ],
   "source": [
    "store_w_ohe_features.iloc[:, 2:].head()\n",
    "# to do: run kmeans on the above df\n",
    "# identify the right cluster n\n",
    "\n",
    "\n",
    "# in your presentation, talk about stratified sampling. But this data has challenges... you can talk about your EDA\n",
    "# so, to make sense of the data that's given, you implemented your own variation of stratified sampling - but from using kmeans cluster\n",
    "\n",
    "\n"
   ]
  },
  {
   "cell_type": "code",
   "execution_count": 44,
   "metadata": {},
   "outputs": [],
   "source": [
    "X = store_w_ohe_features.iloc[:,2:]\n",
    "\n",
    "# kmeanModel.label_ < if I assign this to new column in the df i can get label "
   ]
  },
  {
   "cell_type": "code",
   "execution_count": 45,
   "metadata": {},
   "outputs": [
    {
     "data": {
      "text/plain": [
       "Text(0, 0.5, 'Distortion (SSE)')"
      ]
     },
     "execution_count": 45,
     "metadata": {},
     "output_type": "execute_result"
    },
    {
     "data": {
      "image/png": "[encoded data removed]",
      "text/plain": [
       "<Figure size 432x288 with 1 Axes>"
      ]
     },
     "metadata": {
      "needs_background": "light"
     },
     "output_type": "display_data"
    }
   ],
   "source": [
    "ss = []                            # list of sum of square error for each K value\n",
    "assignments = {}\n",
    "\n",
    "Krange= list(range(2, 11))         # K values\n",
    "\n",
    "for K in Krange:\n",
    "    model = KMeans(n_clusters=K)\n",
    "    assigned_cluster = model.fit_predict(X)\n",
    "    centers = model.cluster_centers_\n",
    "    ss.append(model.inertia_) # or ss.append(model.inertia_) ( same thing)\n",
    "    assignments[str(K)] = assigned_cluster\n",
    "    \n",
    "plt.plot(Krange, ss, '-o')\n",
    "\n",
    "plt.title(\"The Elbow Sum-of-Squares Method\", size = 20)\n",
    "plt.xlabel(\"Number of clusters (K)\")\n",
    "plt.ylabel(\"Distortion (SSE)\")\n"
   ]
  },
  {
   "cell_type": "code",
   "execution_count": 46,
   "metadata": {},
   "outputs": [
    {
     "name": "stdout",
     "output_type": "stream",
     "text": [
      "4\n"
     ]
    },
    {
     "data": {
      "text/plain": [
       "([<matplotlib.axis.XTick at 0x7fe104885f40>,\n",
       "  <matplotlib.axis.XTick at 0x7fe105020340>,\n",
       "  <matplotlib.axis.XTick at 0x7fe1047cfee0>,\n",
       "  <matplotlib.axis.XTick at 0x7fe10504e490>],\n",
       " [Text(0, 0, ''), Text(0, 0, ''), Text(0, 0, ''), Text(0, 0, '')])"
      ]
     },
     "execution_count": 46,
     "metadata": {},
     "output_type": "execute_result"
    },
    {
     "data": {
      "image/png": "[encoded data removed]",
      "text/plain": [
       "<Figure size 432x288 with 1 Axes>"
      ]
     },
     "metadata": {
      "needs_background": "light"
     },
     "output_type": "display_data"
    }
   ],
   "source": [
    "# Based on the graph, the elbow point is either 4 or 5.\n",
    "best_K = 4\n",
    "assignments_best_K = assignments[str(best_K)]\n",
    "counts = np.bincount(assignments_best_K)\n",
    "print(len(counts))\n",
    "\n",
    "plt.bar(range(best_K), counts, align='center')\n",
    "\n",
    "plt.xlabel(\"Cluster ID\")\n",
    "plt.ylabel(\"Count\")\n",
    "plt.xticks(range(best_K))"
   ]
  },
  {
   "cell_type": "code",
   "execution_count": 109,
   "metadata": {},
   "outputs": [
    {
     "data": {
      "text/plain": [
       "<matplotlib.collections.PathCollection at 0x7fe10646ac70>"
      ]
     },
     "execution_count": 109,
     "metadata": {},
     "output_type": "execute_result"
    },
    {
     "data": {
      "image/png": "[encoded data removed]",
      "text/plain": [
       "<Figure size 432x288 with 1 Axes>"
      ]
     },
     "metadata": {
      "needs_background": "light"
     },
     "output_type": "display_data"
    }
   ],
   "source": [
    "import sklearn.decomposition\n",
    "import matplotlib.colors\n",
    "\n",
    "model = KMeans(n_clusters=4)\n",
    "\n",
    "cluster_assignments = model.fit_predict(X)\n",
    "\n",
    "cmap = matplotlib.colors.ListedColormap(['red', 'green', 'blue','yellow'])\n",
    "\n",
    "pca = sklearn.decomposition.PCA(n_components=2)\n",
    "pc1, pc2 = zip(*pca.fit_transform(X))\n",
    "plt.scatter(pc1, pc2, c=cluster_assignments.tolist(), cmap=cmap)"
   ]
  },
  {
   "cell_type": "code",
   "execution_count": 48,
   "metadata": {},
   "outputs": [],
   "source": [
    "model = KMeans(n_clusters=4)\n",
    "assigned_cluster = model.fit_predict(X)"
   ]
  },
  {
   "cell_type": "code",
   "execution_count": 49,
   "metadata": {},
   "outputs": [
    {
     "data": {
      "text/plain": [
       "337"
      ]
     },
     "execution_count": 49,
     "metadata": {},
     "output_type": "execute_result"
    }
   ],
   "source": [
    "len(assigned_cluster)"
   ]
  },
  {
   "cell_type": "code",
   "execution_count": 50,
   "metadata": {},
   "outputs": [],
   "source": [
    "store_w_ohe_features['cluster']=assigned_cluster"
   ]
  },
  {
   "cell_type": "code",
   "execution_count": 51,
   "metadata": {},
   "outputs": [
    {
     "data": {
      "text/html": [
       "<div>\n",
       "<style scoped>\n",
       "    .dataframe tbody tr th:only-of-type {\n",
       "        vertical-align: middle;\n",
       "    }\n",
       "\n",
       "    .dataframe tbody tr th {\n",
       "        vertical-align: top;\n",
       "    }\n",
       "\n",
       "    .dataframe thead th {\n",
       "        text-align: right;\n",
       "    }\n",
       "</style>\n",
       "<table border=\"1\" class=\"dataframe\">\n",
       "  <thead>\n",
       "    <tr style=\"text-align: right;\">\n",
       "      <th></th>\n",
       "      <th>index</th>\n",
       "      <th>store_id</th>\n",
       "      <th>1</th>\n",
       "      <th>2</th>\n",
       "      <th>3</th>\n",
       "      <th>4</th>\n",
       "      <th>5</th>\n",
       "      <th>6</th>\n",
       "      <th>7</th>\n",
       "      <th>8</th>\n",
       "      <th>...</th>\n",
       "      <th>51_WY-RIVERTON-192</th>\n",
       "      <th>51_WY-RIVERTON-193</th>\n",
       "      <th>51_WY-SHERIDAN-135</th>\n",
       "      <th>51_WY-SHERIDAN-344</th>\n",
       "      <th>51_WY-THAYNE-276</th>\n",
       "      <th>51_WY-THERMOPOLIS-577</th>\n",
       "      <th>51_WY-TORRINGTON-293</th>\n",
       "      <th>51_WY-WHEATLAND-391</th>\n",
       "      <th>51_WY-WORLAND-166</th>\n",
       "      <th>cluster</th>\n",
       "    </tr>\n",
       "  </thead>\n",
       "  <tbody>\n",
       "    <tr>\n",
       "      <th>0</th>\n",
       "      <td>0</td>\n",
       "      <td>338</td>\n",
       "      <td>4860.41</td>\n",
       "      <td>0.2087</td>\n",
       "      <td>0.9293</td>\n",
       "      <td>0.1495</td>\n",
       "      <td>0.028719</td>\n",
       "      <td>6.0</td>\n",
       "      <td>0.1455</td>\n",
       "      <td>4787174.31</td>\n",
       "      <td>...</td>\n",
       "      <td>0</td>\n",
       "      <td>0</td>\n",
       "      <td>0</td>\n",
       "      <td>0</td>\n",
       "      <td>0</td>\n",
       "      <td>0</td>\n",
       "      <td>0</td>\n",
       "      <td>0</td>\n",
       "      <td>0</td>\n",
       "      <td>1</td>\n",
       "    </tr>\n",
       "    <tr>\n",
       "      <th>1</th>\n",
       "      <td>1</td>\n",
       "      <td>339</td>\n",
       "      <td>2546.26</td>\n",
       "      <td>0.4454</td>\n",
       "      <td>0.4954</td>\n",
       "      <td>0.2152</td>\n",
       "      <td>0.014700</td>\n",
       "      <td>5.0</td>\n",
       "      <td>0.2470</td>\n",
       "      <td>3868819.68</td>\n",
       "      <td>...</td>\n",
       "      <td>0</td>\n",
       "      <td>0</td>\n",
       "      <td>0</td>\n",
       "      <td>0</td>\n",
       "      <td>0</td>\n",
       "      <td>0</td>\n",
       "      <td>0</td>\n",
       "      <td>0</td>\n",
       "      <td>0</td>\n",
       "      <td>1</td>\n",
       "    </tr>\n",
       "    <tr>\n",
       "      <th>2</th>\n",
       "      <td>2</td>\n",
       "      <td>340</td>\n",
       "      <td>2446.60</td>\n",
       "      <td>1.1300</td>\n",
       "      <td>1.0012</td>\n",
       "      <td>0.0001</td>\n",
       "      <td>0.028719</td>\n",
       "      <td>22.0</td>\n",
       "      <td>0.1606</td>\n",
       "      <td>1624734.44</td>\n",
       "      <td>...</td>\n",
       "      <td>0</td>\n",
       "      <td>0</td>\n",
       "      <td>0</td>\n",
       "      <td>0</td>\n",
       "      <td>0</td>\n",
       "      <td>0</td>\n",
       "      <td>0</td>\n",
       "      <td>0</td>\n",
       "      <td>0</td>\n",
       "      <td>1</td>\n",
       "    </tr>\n",
       "    <tr>\n",
       "      <th>3</th>\n",
       "      <td>3</td>\n",
       "      <td>341</td>\n",
       "      <td>2526.21</td>\n",
       "      <td>0.1700</td>\n",
       "      <td>0.2454</td>\n",
       "      <td>0.2416</td>\n",
       "      <td>0.028719</td>\n",
       "      <td>4.0</td>\n",
       "      <td>0.1906</td>\n",
       "      <td>13185248.22</td>\n",
       "      <td>...</td>\n",
       "      <td>0</td>\n",
       "      <td>0</td>\n",
       "      <td>0</td>\n",
       "      <td>0</td>\n",
       "      <td>0</td>\n",
       "      <td>0</td>\n",
       "      <td>0</td>\n",
       "      <td>0</td>\n",
       "      <td>0</td>\n",
       "      <td>0</td>\n",
       "    </tr>\n",
       "    <tr>\n",
       "      <th>4</th>\n",
       "      <td>4</td>\n",
       "      <td>342</td>\n",
       "      <td>2368.64</td>\n",
       "      <td>0.0202</td>\n",
       "      <td>0.4319</td>\n",
       "      <td>0.2248</td>\n",
       "      <td>0.028719</td>\n",
       "      <td>5.0</td>\n",
       "      <td>0.1988</td>\n",
       "      <td>7851917.14</td>\n",
       "      <td>...</td>\n",
       "      <td>0</td>\n",
       "      <td>0</td>\n",
       "      <td>0</td>\n",
       "      <td>0</td>\n",
       "      <td>0</td>\n",
       "      <td>0</td>\n",
       "      <td>0</td>\n",
       "      <td>0</td>\n",
       "      <td>0</td>\n",
       "      <td>3</td>\n",
       "    </tr>\n",
       "  </tbody>\n",
       "</table>\n",
       "<p>5 rows × 409 columns</p>\n",
       "</div>"
      ],
      "text/plain": [
       "   index  store_id        1       2       3       4         5     6       7  \\\n",
       "0      0       338  4860.41  0.2087  0.9293  0.1495  0.028719   6.0  0.1455   \n",
       "1      1       339  2546.26  0.4454  0.4954  0.2152  0.014700   5.0  0.2470   \n",
       "2      2       340  2446.60  1.1300  1.0012  0.0001  0.028719  22.0  0.1606   \n",
       "3      3       341  2526.21  0.1700  0.2454  0.2416  0.028719   4.0  0.1906   \n",
       "4      4       342  2368.64  0.0202  0.4319  0.2248  0.028719   5.0  0.1988   \n",
       "\n",
       "             8  ...  51_WY-RIVERTON-192  51_WY-RIVERTON-193  \\\n",
       "0   4787174.31  ...                   0                   0   \n",
       "1   3868819.68  ...                   0                   0   \n",
       "2   1624734.44  ...                   0                   0   \n",
       "3  13185248.22  ...                   0                   0   \n",
       "4   7851917.14  ...                   0                   0   \n",
       "\n",
       "   51_WY-SHERIDAN-135  51_WY-SHERIDAN-344  51_WY-THAYNE-276  \\\n",
       "0                   0                   0                 0   \n",
       "1                   0                   0                 0   \n",
       "2                   0                   0                 0   \n",
       "3                   0                   0                 0   \n",
       "4                   0                   0                 0   \n",
       "\n",
       "   51_WY-THERMOPOLIS-577  51_WY-TORRINGTON-293  51_WY-WHEATLAND-391  \\\n",
       "0                      0                     0                    0   \n",
       "1                      0                     0                    0   \n",
       "2                      0                     0                    0   \n",
       "3                      0                     0                    0   \n",
       "4                      0                     0                    0   \n",
       "\n",
       "   51_WY-WORLAND-166  cluster  \n",
       "0                  0        1  \n",
       "1                  0        1  \n",
       "2                  0        1  \n",
       "3                  0        0  \n",
       "4                  0        3  \n",
       "\n",
       "[5 rows x 409 columns]"
      ]
     },
     "execution_count": 51,
     "metadata": {},
     "output_type": "execute_result"
    }
   ],
   "source": [
    "store_w_ohe_features.head()"
   ]
  },
  {
   "cell_type": "code",
   "execution_count": 52,
   "metadata": {},
   "outputs": [],
   "source": [
    "store_0 = store_w_ohe_features[store_w_ohe_features.cluster==0]\n",
    "store_1 = store_w_ohe_features[store_w_ohe_features.cluster==1]\n",
    "store_2 = store_w_ohe_features[store_w_ohe_features.cluster==2]\n",
    "store_3 = store_w_ohe_features[store_w_ohe_features.cluster==3]"
   ]
  },
  {
   "cell_type": "code",
   "execution_count": 53,
   "metadata": {},
   "outputs": [
    {
     "data": {
      "text/html": [
       "<div>\n",
       "<style scoped>\n",
       "    .dataframe tbody tr th:only-of-type {\n",
       "        vertical-align: middle;\n",
       "    }\n",
       "\n",
       "    .dataframe tbody tr th {\n",
       "        vertical-align: top;\n",
       "    }\n",
       "\n",
       "    .dataframe thead th {\n",
       "        text-align: right;\n",
       "    }\n",
       "</style>\n",
       "<table border=\"1\" class=\"dataframe\">\n",
       "  <thead>\n",
       "    <tr style=\"text-align: right;\">\n",
       "      <th></th>\n",
       "      <th>index</th>\n",
       "      <th>store_id</th>\n",
       "      <th>1</th>\n",
       "      <th>2</th>\n",
       "      <th>3</th>\n",
       "      <th>4</th>\n",
       "      <th>5</th>\n",
       "      <th>6</th>\n",
       "      <th>7</th>\n",
       "      <th>8</th>\n",
       "      <th>...</th>\n",
       "      <th>51_WY-RIVERTON-192</th>\n",
       "      <th>51_WY-RIVERTON-193</th>\n",
       "      <th>51_WY-SHERIDAN-135</th>\n",
       "      <th>51_WY-SHERIDAN-344</th>\n",
       "      <th>51_WY-THAYNE-276</th>\n",
       "      <th>51_WY-THERMOPOLIS-577</th>\n",
       "      <th>51_WY-TORRINGTON-293</th>\n",
       "      <th>51_WY-WHEATLAND-391</th>\n",
       "      <th>51_WY-WORLAND-166</th>\n",
       "      <th>cluster</th>\n",
       "    </tr>\n",
       "  </thead>\n",
       "  <tbody>\n",
       "    <tr>\n",
       "      <th>3</th>\n",
       "      <td>3</td>\n",
       "      <td>341</td>\n",
       "      <td>2526.21</td>\n",
       "      <td>0.1700</td>\n",
       "      <td>0.2454</td>\n",
       "      <td>0.2416</td>\n",
       "      <td>0.028719</td>\n",
       "      <td>4.0</td>\n",
       "      <td>0.1906</td>\n",
       "      <td>13185248.22</td>\n",
       "      <td>...</td>\n",
       "      <td>0</td>\n",
       "      <td>0</td>\n",
       "      <td>0</td>\n",
       "      <td>0</td>\n",
       "      <td>0</td>\n",
       "      <td>0</td>\n",
       "      <td>0</td>\n",
       "      <td>0</td>\n",
       "      <td>0</td>\n",
       "      <td>0</td>\n",
       "    </tr>\n",
       "    <tr>\n",
       "      <th>15</th>\n",
       "      <td>15</td>\n",
       "      <td>353</td>\n",
       "      <td>2942.13</td>\n",
       "      <td>0.1701</td>\n",
       "      <td>0.5356</td>\n",
       "      <td>0.1971</td>\n",
       "      <td>0.028719</td>\n",
       "      <td>7.0</td>\n",
       "      <td>0.2314</td>\n",
       "      <td>11904062.55</td>\n",
       "      <td>...</td>\n",
       "      <td>0</td>\n",
       "      <td>0</td>\n",
       "      <td>0</td>\n",
       "      <td>0</td>\n",
       "      <td>0</td>\n",
       "      <td>0</td>\n",
       "      <td>0</td>\n",
       "      <td>0</td>\n",
       "      <td>0</td>\n",
       "      <td>0</td>\n",
       "    </tr>\n",
       "    <tr>\n",
       "      <th>18</th>\n",
       "      <td>18</td>\n",
       "      <td>356</td>\n",
       "      <td>2290.46</td>\n",
       "      <td>0.3616</td>\n",
       "      <td>0.2983</td>\n",
       "      <td>0.1175</td>\n",
       "      <td>0.028719</td>\n",
       "      <td>1.0</td>\n",
       "      <td>0.1970</td>\n",
       "      <td>11691256.28</td>\n",
       "      <td>...</td>\n",
       "      <td>0</td>\n",
       "      <td>0</td>\n",
       "      <td>0</td>\n",
       "      <td>0</td>\n",
       "      <td>0</td>\n",
       "      <td>0</td>\n",
       "      <td>0</td>\n",
       "      <td>0</td>\n",
       "      <td>0</td>\n",
       "      <td>0</td>\n",
       "    </tr>\n",
       "    <tr>\n",
       "      <th>22</th>\n",
       "      <td>22</td>\n",
       "      <td>361</td>\n",
       "      <td>2912.36</td>\n",
       "      <td>0.1619</td>\n",
       "      <td>0.3582</td>\n",
       "      <td>0.1499</td>\n",
       "      <td>0.028719</td>\n",
       "      <td>1.0</td>\n",
       "      <td>0.1879</td>\n",
       "      <td>16247605.00</td>\n",
       "      <td>...</td>\n",
       "      <td>0</td>\n",
       "      <td>0</td>\n",
       "      <td>0</td>\n",
       "      <td>0</td>\n",
       "      <td>0</td>\n",
       "      <td>0</td>\n",
       "      <td>0</td>\n",
       "      <td>0</td>\n",
       "      <td>0</td>\n",
       "      <td>0</td>\n",
       "    </tr>\n",
       "    <tr>\n",
       "      <th>23</th>\n",
       "      <td>23</td>\n",
       "      <td>362</td>\n",
       "      <td>3078.46</td>\n",
       "      <td>1.2466</td>\n",
       "      <td>0.2137</td>\n",
       "      <td>0.1672</td>\n",
       "      <td>0.028719</td>\n",
       "      <td>1.0</td>\n",
       "      <td>0.2207</td>\n",
       "      <td>12430141.42</td>\n",
       "      <td>...</td>\n",
       "      <td>0</td>\n",
       "      <td>0</td>\n",
       "      <td>0</td>\n",
       "      <td>0</td>\n",
       "      <td>0</td>\n",
       "      <td>0</td>\n",
       "      <td>0</td>\n",
       "      <td>0</td>\n",
       "      <td>0</td>\n",
       "      <td>0</td>\n",
       "    </tr>\n",
       "  </tbody>\n",
       "</table>\n",
       "<p>5 rows × 409 columns</p>\n",
       "</div>"
      ],
      "text/plain": [
       "    index  store_id        1       2       3       4         5    6       7  \\\n",
       "3       3       341  2526.21  0.1700  0.2454  0.2416  0.028719  4.0  0.1906   \n",
       "15     15       353  2942.13  0.1701  0.5356  0.1971  0.028719  7.0  0.2314   \n",
       "18     18       356  2290.46  0.3616  0.2983  0.1175  0.028719  1.0  0.1970   \n",
       "22     22       361  2912.36  0.1619  0.3582  0.1499  0.028719  1.0  0.1879   \n",
       "23     23       362  3078.46  1.2466  0.2137  0.1672  0.028719  1.0  0.2207   \n",
       "\n",
       "              8  ...  51_WY-RIVERTON-192  51_WY-RIVERTON-193  \\\n",
       "3   13185248.22  ...                   0                   0   \n",
       "15  11904062.55  ...                   0                   0   \n",
       "18  11691256.28  ...                   0                   0   \n",
       "22  16247605.00  ...                   0                   0   \n",
       "23  12430141.42  ...                   0                   0   \n",
       "\n",
       "    51_WY-SHERIDAN-135  51_WY-SHERIDAN-344  51_WY-THAYNE-276  \\\n",
       "3                    0                   0                 0   \n",
       "15                   0                   0                 0   \n",
       "18                   0                   0                 0   \n",
       "22                   0                   0                 0   \n",
       "23                   0                   0                 0   \n",
       "\n",
       "    51_WY-THERMOPOLIS-577  51_WY-TORRINGTON-293  51_WY-WHEATLAND-391  \\\n",
       "3                       0                     0                    0   \n",
       "15                      0                     0                    0   \n",
       "18                      0                     0                    0   \n",
       "22                      0                     0                    0   \n",
       "23                      0                     0                    0   \n",
       "\n",
       "    51_WY-WORLAND-166  cluster  \n",
       "3                   0        0  \n",
       "15                  0        0  \n",
       "18                  0        0  \n",
       "22                  0        0  \n",
       "23                  0        0  \n",
       "\n",
       "[5 rows x 409 columns]"
      ]
     },
     "execution_count": 53,
     "metadata": {},
     "output_type": "execute_result"
    }
   ],
   "source": [
    "store_0.head()"
   ]
  },
  {
   "cell_type": "code",
   "execution_count": 55,
   "metadata": {},
   "outputs": [
    {
     "data": {
      "text/plain": [
       "(67, 114, 16, 140)"
      ]
     },
     "execution_count": 55,
     "metadata": {},
     "output_type": "execute_result"
    }
   ],
   "source": [
    "len(store_0), len(store_1), len(store_2), len(store_3)"
   ]
  },
  {
   "cell_type": "code",
   "execution_count": 90,
   "metadata": {},
   "outputs": [],
   "source": [
    "store0_split = store_0.sample(frac=0.9,random_state=200)\n",
    "\n",
    "store0_2_split=store_0.drop(store0_split.index)"
   ]
  },
  {
   "cell_type": "code",
   "execution_count": 91,
   "metadata": {},
   "outputs": [],
   "source": [
    "store1_split = store_1.sample(frac=0.9,random_state=200)\n",
    "\n",
    "store1_2_split=store_1.drop(store1_split.index)"
   ]
  },
  {
   "cell_type": "code",
   "execution_count": 92,
   "metadata": {},
   "outputs": [],
   "source": [
    "store2_split = store_2.sample(frac=0.9,random_state=200)\n",
    "\n",
    "store2_2_split=store_2.drop(store2_split.index)"
   ]
  },
  {
   "cell_type": "code",
   "execution_count": 93,
   "metadata": {},
   "outputs": [],
   "source": [
    "store3_split = store_3.sample(frac=0.9,random_state=200)\n",
    "\n",
    "store3_2_split=store_3.drop(store3_split.index)"
   ]
  },
  {
   "cell_type": "code",
   "execution_count": 94,
   "metadata": {},
   "outputs": [
    {
     "data": {
      "text/plain": [
       "60"
      ]
     },
     "execution_count": 94,
     "metadata": {},
     "output_type": "execute_result"
    }
   ],
   "source": [
    "len(store0_split)"
   ]
  },
  {
   "cell_type": "code",
   "execution_count": 95,
   "metadata": {},
   "outputs": [
    {
     "data": {
      "text/plain": [
       "7"
      ]
     },
     "execution_count": 95,
     "metadata": {},
     "output_type": "execute_result"
    }
   ],
   "source": [
    "len(store0_2_split)"
   ]
  },
  {
   "cell_type": "code",
   "execution_count": 96,
   "metadata": {},
   "outputs": [],
   "source": [
    "control = pd.concat([store0_split.store_id, store1_split.store_id, store2_split.store_id, store3_split.store_id], axis=0)\n",
    "\n"
   ]
  },
  {
   "cell_type": "code",
   "execution_count": 97,
   "metadata": {},
   "outputs": [],
   "source": [
    "treatment = pd.concat([store0_2_split.store_id, store1_2_split.store_id, store2_2_split.store_id, store3_2_split.store_id], axis=0)\n"
   ]
  },
  {
   "cell_type": "code",
   "execution_count": 98,
   "metadata": {},
   "outputs": [
    {
     "data": {
      "text/plain": [
       "(303,)"
      ]
     },
     "execution_count": 98,
     "metadata": {},
     "output_type": "execute_result"
    }
   ],
   "source": [
    "control.shape"
   ]
  },
  {
   "cell_type": "code",
   "execution_count": 99,
   "metadata": {},
   "outputs": [
    {
     "data": {
      "text/plain": [
       "(34,)"
      ]
     },
     "execution_count": 99,
     "metadata": {},
     "output_type": "execute_result"
    }
   ],
   "source": [
    "treatment.shape"
   ]
  },
  {
   "cell_type": "code",
   "execution_count": 102,
   "metadata": {},
   "outputs": [
    {
     "data": {
      "text/plain": [
       "303.3"
      ]
     },
     "execution_count": 102,
     "metadata": {},
     "output_type": "execute_result"
    }
   ],
   "source": [
    "337*0.9"
   ]
  },
  {
   "cell_type": "code",
   "execution_count": 103,
   "metadata": {},
   "outputs": [
    {
     "data": {
      "text/plain": [
       "33.7"
      ]
     },
     "execution_count": 103,
     "metadata": {},
     "output_type": "execute_result"
    }
   ],
   "source": [
    "337*0.1"
   ]
  },
  {
   "cell_type": "code",
   "execution_count": 104,
   "metadata": {},
   "outputs": [
    {
     "data": {
      "text/plain": [
       "124    463\n",
       "295    634\n",
       "24     363\n",
       "280    619\n",
       "37     376\n",
       "Name: store_id, dtype: int64"
      ]
     },
     "execution_count": 104,
     "metadata": {},
     "output_type": "execute_result"
    }
   ],
   "source": [
    "control.head()"
   ]
  },
  {
   "cell_type": "code",
   "execution_count": 105,
   "metadata": {},
   "outputs": [
    {
     "data": {
      "text/plain": [
       "47     386\n",
       "58     397\n",
       "62     401\n",
       "102    441\n",
       "106    445\n",
       "171    510\n",
       "291    630\n",
       "30     369\n",
       "41     380\n",
       "83     422\n",
       "138    477\n",
       "166    505\n",
       "204    543\n",
       "222    561\n",
       "226    565\n",
       "268    607\n",
       "274    613\n",
       "315    654\n",
       "253    592\n",
       "256    595\n",
       "7      345\n",
       "26     365\n",
       "46     385\n",
       "51     390\n",
       "67     406\n",
       "104    443\n",
       "133    472\n",
       "170    509\n",
       "187    526\n",
       "193    532\n",
       "220    559\n",
       "255    594\n",
       "301    640\n",
       "316    655\n",
       "Name: store_id, dtype: int64"
      ]
     },
     "execution_count": 105,
     "metadata": {},
     "output_type": "execute_result"
    }
   ],
   "source": [
    "treatment.head(34)"
   ]
  },
  {
   "cell_type": "code",
   "execution_count": null,
   "metadata": {},
   "outputs": [],
   "source": []
  }
 ],
 "metadata": {
  "kernelspec": {
   "display_name": "Python 3",
   "language": "python",
   "name": "python3"
  },
  "language_info": {
   "codemirror_mode": {
    "name": "ipython",
    "version": 3
   },
   "file_extension": ".py",
   "mimetype": "text/x-python",
   "name": "python",
   "nbconvert_exporter": "python",
   "pygments_lexer": "ipython3",
   "version": "3.8.5"
  }
 },
 "nbformat": 4,
 "nbformat_minor": 5
}
